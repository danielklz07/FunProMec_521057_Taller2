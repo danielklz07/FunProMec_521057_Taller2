{
  "nbformat": 4,
  "nbformat_minor": 0,
  "metadata": {
    "colab": {
      "provenance": [],
      "authorship_tag": "ABX9TyNEJMzRlEqjV3vbLnepZ8Vh",
      "include_colab_link": true
    },
    "kernelspec": {
      "name": "python3",
      "display_name": "Python 3"
    },
    "language_info": {
      "name": "python"
    }
  },
  "cells": [
    {
      "cell_type": "markdown",
      "metadata": {
        "id": "view-in-github",
        "colab_type": "text"
      },
      "source": [
        "<a href=\"https://colab.research.google.com/github/danielklz07/FunProMec_521057_Taller2/blob/main/Untitled1.ipynb\" target=\"_parent\"><img src=\"https://colab.research.google.com/assets/colab-badge.svg\" alt=\"Open In Colab\"/></a>"
      ]
    },
    {
      "cell_type": "markdown",
      "source": [
        "## Taller 2\n",
        "## Fundamentos de Programacion - Ingenieria Mecanica 2023_10\n",
        ">Estudiante:Daniel Manjarrez Ibañez\n",
        "\n",
        ">ID: 000521057\n",
        "\n",
        ">e-mail: daniel.manjarrez@upb.edu.co\n"
      ],
      "metadata": {
        "id": "6pbGBJriraFX"
      }
    },
    {
      "cell_type": "markdown",
      "source": [
        "1. Calcular y mostrar la posicion de una particula que experimenta movimiento uniformemente acelerado a partir de su posicion inicial(x0). velocidad inicial (v0) y aceleracion (a) endos instantes de tiempo diferentes."
      ],
      "metadata": {
        "id": "FLBZZEzFtbAK"
      }
    },
    {
      "cell_type": "code",
      "execution_count": 8,
      "metadata": {
        "colab": {
          "base_uri": "https://localhost:8080/",
          "height": 235
        },
        "id": "ObjUtIHEmL--",
        "outputId": "8138e820-b393-47b1-cdcf-511034b46eec"
      },
      "outputs": [
        {
          "output_type": "error",
          "ename": "NameError",
          "evalue": "ignored",
          "traceback": [
            "\u001b[0;31m---------------------------------------------------------------------------\u001b[0m",
            "\u001b[0;31mNameError\u001b[0m                                 Traceback (most recent call last)",
            "\u001b[0;32m<ipython-input-8-52091d1d69cf>\u001b[0m in \u001b[0;36m<module>\u001b[0;34m\u001b[0m\n\u001b[1;32m      5\u001b[0m \u001b[0mt_1\u001b[0m \u001b[0;34m=\u001b[0m \u001b[0;36m0\u001b[0m\u001b[0;34m\u001b[0m\u001b[0;34m\u001b[0m\u001b[0m\n\u001b[1;32m      6\u001b[0m \u001b[0;34m\u001b[0m\u001b[0m\n\u001b[0;32m----> 7\u001b[0;31m \u001b[0mx_1\u001b[0m \u001b[0;34m=\u001b[0m \u001b[0mx_0\u001b[0m \u001b[0;34m+\u001b[0m \u001b[0mv_0\u001b[0m \u001b[0;34m*\u001b[0m \u001b[0mt_1\u001b[0m \u001b[0;34m+\u001b[0m \u001b[0;34m(\u001b[0m\u001b[0ma\u001b[0m\u001b[0;34m*\u001b[0m\u001b[0mt_1\u001b[0m \u001b[0;34m**\u001b[0m \u001b[0;36m2\u001b[0m\u001b[0;34m)\u001b[0m\u001b[0;34m/\u001b[0m\u001b[0;36m2\u001b[0m\u001b[0;34m\u001b[0m\u001b[0;34m\u001b[0m\u001b[0m\n\u001b[0m\u001b[1;32m      8\u001b[0m \u001b[0;34m\u001b[0m\u001b[0m\n\u001b[1;32m      9\u001b[0m \u001b[0mprint\u001b[0m \u001b[0;34m=\u001b[0m \u001b[0mx0\u001b[0m\u001b[0;34m\u001b[0m\u001b[0;34m\u001b[0m\u001b[0m\n",
            "\u001b[0;31mNameError\u001b[0m: name 'x_0' is not defined"
          ]
        }
      ],
      "source": [
        "\n",
        "x_o = 3\n",
        "v_0 =5\n",
        "a = 6\n",
        "\n",
        "t_1 = 0\n",
        "\n",
        "x_1 = x_0 + v_0 * t_1 + (a*t_1 ** 2)/2\n",
        "\n",
        "print = \n"
      ]
    },
    {
      "cell_type": "code",
      "source": [
        "d = 5\n",
        "c = 10\n",
        "print (d * c)"
      ],
      "metadata": {
        "colab": {
          "base_uri": "https://localhost:8080/"
        },
        "id": "U2ZCp7t34xxi",
        "outputId": "864996da-450b-40bb-9c85-e2843c25ae23"
      },
      "execution_count": 9,
      "outputs": [
        {
          "output_type": "stream",
          "name": "stdout",
          "text": [
            "50\n"
          ]
        }
      ]
    },
    {
      "cell_type": "markdown",
      "source": [
        "Problema 2."
      ],
      "metadata": {
        "id": "k5aKvhRF0c83"
      }
    },
    {
      "cell_type": "code",
      "source": [
        "d_1 = (2,3) y (-5,4)\n",
        "d_2 = (0,-2) (6,1)\n",
        "\n",
        " d3 = raiz (x2 - x1)*2 + (y2 - y1)*2\n",
        "\n",
        "print = (d_1 + d2)"
      ],
      "metadata": {
        "colab": {
          "base_uri": "https://localhost:8080/",
          "height": 130
        },
        "id": "n7SKZCi5q2DT",
        "outputId": "ac26e34d-c9ac-4dee-c057-08c808c2ea4f"
      },
      "execution_count": 19,
      "outputs": [
        {
          "output_type": "error",
          "ename": "SyntaxError",
          "evalue": "ignored",
          "traceback": [
            "\u001b[0;36m  File \u001b[0;32m\"<ipython-input-19-4f11a5116551>\"\u001b[0;36m, line \u001b[0;32m1\u001b[0m\n\u001b[0;31m    d_1 = (2,3) y (-5,4)\u001b[0m\n\u001b[0m                ^\u001b[0m\n\u001b[0;31mSyntaxError\u001b[0m\u001b[0;31m:\u001b[0m invalid syntax\n"
          ]
        }
      ]
    },
    {
      "cell_type": "markdown",
      "source": [
        "Problema 3.\n",
        "Imprime el resultado de las siguientes operaciones logicas."
      ],
      "metadata": {
        "id": "ir_ovqGC0l5X"
      }
    },
    {
      "cell_type": "code",
      "source": [
        "  a > b\n",
        "  b <= c\n",
        "  a = b  \n",
        "  c = B\n",
        "  a + D < C\n",
        "  d- C >= - A * b\n",
        "  d * c == 5 o c * a > 9\n",
        "  a * b + c > - d * 10\n",
        "  4 * b == C * 3\n",
        "\n",
        " a = 5\n",
        " b = 2\n",
        " c = 3\n",
        " d = -2\n",
        " print = ()\n",
        "\n"
      ],
      "metadata": {
        "colab": {
          "base_uri": "https://localhost:8080/",
          "height": 130
        },
        "id": "3aJDm_BKx0ST",
        "outputId": "77e2b0ef-8d0c-4878-ffb2-75ff5892fafd"
      },
      "execution_count": 18,
      "outputs": [
        {
          "output_type": "error",
          "ename": "SyntaxError",
          "evalue": "ignored",
          "traceback": [
            "\u001b[0;36m  File \u001b[0;32m\"<ipython-input-18-7b533f90b3e3>\"\u001b[0;36m, line \u001b[0;32m7\u001b[0m\n\u001b[0;31m    d * c == 5 o c * a > 9\u001b[0m\n\u001b[0m               ^\u001b[0m\n\u001b[0;31mSyntaxError\u001b[0m\u001b[0;31m:\u001b[0m invalid syntax\n"
          ]
        }
      ]
    },
    {
      "cell_type": "markdown",
      "source": [],
      "metadata": {
        "id": "UcFlk-9opIc_"
      }
    }
  ]
}